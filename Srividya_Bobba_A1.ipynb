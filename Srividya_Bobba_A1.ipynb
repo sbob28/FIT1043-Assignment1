{
 "cells": [
  {
   "cell_type": "code",
   "execution_count": 1,
   "id": "72d59d68-bb82-419d-b9b0-1191bb4090d0",
   "metadata": {},
   "outputs": [
    {
     "name": "stdout",
     "output_type": "stream",
     "text": [
      "4\n"
     ]
    }
   ],
   "source": [
    "import math\n",
    "last_digit = 7\n",
    "Question_number = math.ceil((last_digit+1)/2)\n",
    "print(Question_number)"
   ]
  },
  {
   "cell_type": "code",
   "execution_count": 2,
   "id": "6aa6f200-af10-4e44-bc95-6fc7ba3e6992",
   "metadata": {},
   "outputs": [],
   "source": [
    "import pandas as pd"
   ]
  },
  {
   "cell_type": "code",
   "execution_count": 3,
   "id": "ba3f3600-bcb5-4dd3-b200-6eeb5fb51e71",
   "metadata": {},
   "outputs": [],
   "source": [
    "student = pd.read_csv('Student_List.csv')"
   ]
  },
  {
   "cell_type": "code",
   "execution_count": 4,
   "id": "19cd0e3e-6b53-431a-9a2d-87956f99fc85",
   "metadata": {},
   "outputs": [
    {
     "data": {
      "text/html": [
       "<div>\n",
       "<style scoped>\n",
       "    .dataframe tbody tr th:only-of-type {\n",
       "        vertical-align: middle;\n",
       "    }\n",
       "\n",
       "    .dataframe tbody tr th {\n",
       "        vertical-align: top;\n",
       "    }\n",
       "\n",
       "    .dataframe thead th {\n",
       "        text-align: right;\n",
       "    }\n",
       "</style>\n",
       "<table border=\"1\" class=\"dataframe\">\n",
       "  <thead>\n",
       "    <tr style=\"text-align: right;\">\n",
       "      <th></th>\n",
       "      <th>StudentID</th>\n",
       "      <th>Age</th>\n",
       "      <th>ParentalEducation</th>\n",
       "      <th>StudyTimeWeekly</th>\n",
       "      <th>Absences</th>\n",
       "      <th>Tutoring</th>\n",
       "      <th>ParentalSupport</th>\n",
       "      <th>Extracurricular</th>\n",
       "      <th>Sports</th>\n",
       "      <th>Music</th>\n",
       "      <th>Volunteering</th>\n",
       "      <th>GPA</th>\n",
       "      <th>GradeClass</th>\n",
       "    </tr>\n",
       "  </thead>\n",
       "  <tbody>\n",
       "    <tr>\n",
       "      <th>0</th>\n",
       "      <td>1640</td>\n",
       "      <td>18</td>\n",
       "      <td>Some College</td>\n",
       "      <td>10.318918</td>\n",
       "      <td>5</td>\n",
       "      <td>No</td>\n",
       "      <td>2</td>\n",
       "      <td>No</td>\n",
       "      <td>Yes</td>\n",
       "      <td>No</td>\n",
       "      <td>No</td>\n",
       "      <td>2.655994</td>\n",
       "      <td>C</td>\n",
       "    </tr>\n",
       "    <tr>\n",
       "      <th>1</th>\n",
       "      <td>2939</td>\n",
       "      <td>16</td>\n",
       "      <td>Bachelor's</td>\n",
       "      <td>6.517803</td>\n",
       "      <td>2</td>\n",
       "      <td>Yes</td>\n",
       "      <td>2</td>\n",
       "      <td>No</td>\n",
       "      <td>Yes</td>\n",
       "      <td>No</td>\n",
       "      <td>No</td>\n",
       "      <td>3.474562</td>\n",
       "      <td>B</td>\n",
       "    </tr>\n",
       "    <tr>\n",
       "      <th>2</th>\n",
       "      <td>2877</td>\n",
       "      <td>15</td>\n",
       "      <td>Some College</td>\n",
       "      <td>0.815700</td>\n",
       "      <td>1</td>\n",
       "      <td>No</td>\n",
       "      <td>1</td>\n",
       "      <td>No</td>\n",
       "      <td>No</td>\n",
       "      <td>Yes</td>\n",
       "      <td>Yes</td>\n",
       "      <td>2.806878</td>\n",
       "      <td>C</td>\n",
       "    </tr>\n",
       "    <tr>\n",
       "      <th>3</th>\n",
       "      <td>1628</td>\n",
       "      <td>16</td>\n",
       "      <td>High School</td>\n",
       "      <td>6.304335</td>\n",
       "      <td>8</td>\n",
       "      <td>No</td>\n",
       "      <td>3</td>\n",
       "      <td>No</td>\n",
       "      <td>No</td>\n",
       "      <td>No</td>\n",
       "      <td>No</td>\n",
       "      <td>2.150546</td>\n",
       "      <td>D</td>\n",
       "    </tr>\n",
       "    <tr>\n",
       "      <th>4</th>\n",
       "      <td>2052</td>\n",
       "      <td>15</td>\n",
       "      <td>Some College</td>\n",
       "      <td>2.516047</td>\n",
       "      <td>14</td>\n",
       "      <td>Yes</td>\n",
       "      <td>3</td>\n",
       "      <td>Yes</td>\n",
       "      <td>No</td>\n",
       "      <td>No</td>\n",
       "      <td>No</td>\n",
       "      <td>2.253871</td>\n",
       "      <td>D</td>\n",
       "    </tr>\n",
       "  </tbody>\n",
       "</table>\n",
       "</div>"
      ],
      "text/plain": [
       "   StudentID  Age ParentalEducation  StudyTimeWeekly  Absences Tutoring  \\\n",
       "0       1640   18      Some College        10.318918         5       No   \n",
       "1       2939   16        Bachelor's         6.517803         2      Yes   \n",
       "2       2877   15      Some College         0.815700         1       No   \n",
       "3       1628   16       High School         6.304335         8       No   \n",
       "4       2052   15      Some College         2.516047        14      Yes   \n",
       "\n",
       "   ParentalSupport Extracurricular Sports Music Volunteering       GPA  \\\n",
       "0                2              No    Yes    No           No  2.655994   \n",
       "1                2              No    Yes    No           No  3.474562   \n",
       "2                1              No     No   Yes          Yes  2.806878   \n",
       "3                3              No     No    No           No  2.150546   \n",
       "4                3             Yes     No    No           No  2.253871   \n",
       "\n",
       "  GradeClass  \n",
       "0          C  \n",
       "1          B  \n",
       "2          C  \n",
       "3          D  \n",
       "4          D  "
      ]
     },
     "execution_count": 4,
     "metadata": {},
     "output_type": "execute_result"
    }
   ],
   "source": [
    "#displays the first five rows of data\n",
    "student.head()"
   ]
  },
  {
   "cell_type": "markdown",
   "id": "f267c48a-e85f-41be-9931-e4ab6f65c053",
   "metadata": {},
   "source": [
    "# A1. Exploring the dataset"
   ]
  },
  {
   "cell_type": "code",
   "execution_count": 6,
   "id": "d08b4238-dac6-4f5f-9e96-b7a40e89906f",
   "metadata": {},
   "outputs": [
    {
     "data": {
      "text/html": [
       "<div>\n",
       "<style scoped>\n",
       "    .dataframe tbody tr th:only-of-type {\n",
       "        vertical-align: middle;\n",
       "    }\n",
       "\n",
       "    .dataframe tbody tr th {\n",
       "        vertical-align: top;\n",
       "    }\n",
       "\n",
       "    .dataframe thead th {\n",
       "        text-align: right;\n",
       "    }\n",
       "</style>\n",
       "<table border=\"1\" class=\"dataframe\">\n",
       "  <thead>\n",
       "    <tr style=\"text-align: right;\">\n",
       "      <th></th>\n",
       "      <th>StudentID</th>\n",
       "      <th>Age</th>\n",
       "      <th>StudyTimeWeekly</th>\n",
       "      <th>Absences</th>\n",
       "      <th>ParentalSupport</th>\n",
       "      <th>GPA</th>\n",
       "    </tr>\n",
       "  </thead>\n",
       "  <tbody>\n",
       "    <tr>\n",
       "      <th>count</th>\n",
       "      <td>1500.000000</td>\n",
       "      <td>1500.000000</td>\n",
       "      <td>1500.000000</td>\n",
       "      <td>1500.000000</td>\n",
       "      <td>1500.000000</td>\n",
       "      <td>1500.000000</td>\n",
       "    </tr>\n",
       "    <tr>\n",
       "      <th>mean</th>\n",
       "      <td>2209.142667</td>\n",
       "      <td>16.464000</td>\n",
       "      <td>9.625516</td>\n",
       "      <td>14.540000</td>\n",
       "      <td>2.131333</td>\n",
       "      <td>1.901045</td>\n",
       "    </tr>\n",
       "    <tr>\n",
       "      <th>std</th>\n",
       "      <td>693.068389</td>\n",
       "      <td>1.124372</td>\n",
       "      <td>5.718608</td>\n",
       "      <td>8.459557</td>\n",
       "      <td>1.116654</td>\n",
       "      <td>0.923638</td>\n",
       "    </tr>\n",
       "    <tr>\n",
       "      <th>min</th>\n",
       "      <td>1002.000000</td>\n",
       "      <td>15.000000</td>\n",
       "      <td>0.001057</td>\n",
       "      <td>0.000000</td>\n",
       "      <td>0.000000</td>\n",
       "      <td>0.000000</td>\n",
       "    </tr>\n",
       "    <tr>\n",
       "      <th>25%</th>\n",
       "      <td>1599.750000</td>\n",
       "      <td>15.000000</td>\n",
       "      <td>4.717155</td>\n",
       "      <td>7.000000</td>\n",
       "      <td>1.000000</td>\n",
       "      <td>1.171847</td>\n",
       "    </tr>\n",
       "    <tr>\n",
       "      <th>50%</th>\n",
       "      <td>2211.500000</td>\n",
       "      <td>16.000000</td>\n",
       "      <td>9.362636</td>\n",
       "      <td>15.000000</td>\n",
       "      <td>2.000000</td>\n",
       "      <td>1.881249</td>\n",
       "    </tr>\n",
       "    <tr>\n",
       "      <th>75%</th>\n",
       "      <td>2804.750000</td>\n",
       "      <td>17.000000</td>\n",
       "      <td>14.374170</td>\n",
       "      <td>22.000000</td>\n",
       "      <td>3.000000</td>\n",
       "      <td>2.623266</td>\n",
       "    </tr>\n",
       "    <tr>\n",
       "      <th>max</th>\n",
       "      <td>3389.000000</td>\n",
       "      <td>18.000000</td>\n",
       "      <td>19.978094</td>\n",
       "      <td>29.000000</td>\n",
       "      <td>4.000000</td>\n",
       "      <td>4.000000</td>\n",
       "    </tr>\n",
       "  </tbody>\n",
       "</table>\n",
       "</div>"
      ],
      "text/plain": [
       "         StudentID          Age  StudyTimeWeekly     Absences  \\\n",
       "count  1500.000000  1500.000000      1500.000000  1500.000000   \n",
       "mean   2209.142667    16.464000         9.625516    14.540000   \n",
       "std     693.068389     1.124372         5.718608     8.459557   \n",
       "min    1002.000000    15.000000         0.001057     0.000000   \n",
       "25%    1599.750000    15.000000         4.717155     7.000000   \n",
       "50%    2211.500000    16.000000         9.362636    15.000000   \n",
       "75%    2804.750000    17.000000        14.374170    22.000000   \n",
       "max    3389.000000    18.000000        19.978094    29.000000   \n",
       "\n",
       "       ParentalSupport          GPA  \n",
       "count      1500.000000  1500.000000  \n",
       "mean          2.131333     1.901045  \n",
       "std           1.116654     0.923638  \n",
       "min           0.000000     0.000000  \n",
       "25%           1.000000     1.171847  \n",
       "50%           2.000000     1.881249  \n",
       "75%           3.000000     2.623266  \n",
       "max           4.000000     4.000000  "
      ]
     },
     "execution_count": 6,
     "metadata": {},
     "output_type": "execute_result"
    }
   ],
   "source": [
    "#gets quick overview of data\n",
    "student.describe()"
   ]
  },
  {
   "cell_type": "markdown",
   "id": "62d68d85-43da-41f3-97d7-3271db067169",
   "metadata": {},
   "source": [
    "**1. There are 1500 students in this data set**\n",
    "\n",
    "**2. The age range of the students is between 15 and 18**"
   ]
  },
  {
   "cell_type": "code",
   "execution_count": 8,
   "id": "72dd17e2-d096-45f5-895f-ef2feb1abe9e",
   "metadata": {},
   "outputs": [
    {
     "data": {
      "text/plain": [
       "StudentID              int64\n",
       "Age                    int64\n",
       "ParentalEducation     object\n",
       "StudyTimeWeekly      float64\n",
       "Absences               int64\n",
       "Tutoring              object\n",
       "ParentalSupport        int64\n",
       "Extracurricular       object\n",
       "Sports                object\n",
       "Music                 object\n",
       "Volunteering          object\n",
       "GPA                  float64\n",
       "GradeClass            object\n",
       "dtype: object"
      ]
     },
     "execution_count": 8,
     "metadata": {},
     "output_type": "execute_result"
    }
   ],
   "source": [
    "#gets all the data types used in the dataframe\n",
    "student.dtypes"
   ]
  },
  {
   "cell_type": "markdown",
   "id": "db6e19ea-7bd5-45a3-9d64-e60a896e2f1d",
   "metadata": {},
   "source": [
    "**3. There are three data types that are used in this student list DataFrame- integer numbers (int64), text or mixed numeric and non-numeric values (object) and floating numbers (float64). Columns like \n",
    "StudentID, Age, Absences, ParentalSupport use the int64 datatype to represent whole numbers. StudyTimeWeekly and GPA are both floating numbers to accomodate decimal values.**\n",
    "**Categorical data such as ParentalEducation, Tutoring, Extracurricular, Sports, Music, Volunteering and GradeClass are stored as objects, which handlestring values effectively.**"
   ]
  },
  {
   "cell_type": "code",
   "execution_count": 10,
   "id": "c90645dd-15d3-4d19-a70a-03fd1247e3e6",
   "metadata": {},
   "outputs": [
    {
     "data": {
      "text/html": [
       "<div>\n",
       "<style scoped>\n",
       "    .dataframe tbody tr th:only-of-type {\n",
       "        vertical-align: middle;\n",
       "    }\n",
       "\n",
       "    .dataframe tbody tr th {\n",
       "        vertical-align: top;\n",
       "    }\n",
       "\n",
       "    .dataframe thead th {\n",
       "        text-align: right;\n",
       "    }\n",
       "</style>\n",
       "<table border=\"1\" class=\"dataframe\">\n",
       "  <thead>\n",
       "    <tr style=\"text-align: right;\">\n",
       "      <th></th>\n",
       "      <th>StudentID</th>\n",
       "    </tr>\n",
       "    <tr>\n",
       "      <th>GradeClass</th>\n",
       "      <th></th>\n",
       "    </tr>\n",
       "  </thead>\n",
       "  <tbody>\n",
       "    <tr>\n",
       "      <th>A</th>\n",
       "      <td>60</td>\n",
       "    </tr>\n",
       "    <tr>\n",
       "      <th>B</th>\n",
       "      <td>183</td>\n",
       "    </tr>\n",
       "    <tr>\n",
       "      <th>C</th>\n",
       "      <td>244</td>\n",
       "    </tr>\n",
       "    <tr>\n",
       "      <th>D</th>\n",
       "      <td>248</td>\n",
       "    </tr>\n",
       "    <tr>\n",
       "      <th>F</th>\n",
       "      <td>765</td>\n",
       "    </tr>\n",
       "  </tbody>\n",
       "</table>\n",
       "</div>"
      ],
      "text/plain": [
       "            StudentID\n",
       "GradeClass           \n",
       "A                  60\n",
       "B                 183\n",
       "C                 244\n",
       "D                 248\n",
       "F                 765"
      ]
     },
     "execution_count": 10,
     "metadata": {},
     "output_type": "execute_result"
    }
   ],
   "source": [
    "#groups the data depending on the scores\n",
    "grade = {'StudentID':'count'}\n",
    "groupbyGrade = student.groupby('GradeClass').agg(grade)\n",
    "\n",
    "#displays result\n",
    "groupbyGrade"
   ]
  },
  {
   "cell_type": "markdown",
   "id": "fe762d10-ccbc-45ef-87da-cce14d95f75d",
   "metadata": {},
   "source": [
    "4."
   ]
  },
  {
   "cell_type": "code",
   "execution_count": 12,
   "id": "fdac81ec-20b7-4318-ab10-62e8048729b5",
   "metadata": {},
   "outputs": [
    {
     "data": {
      "text/html": [
       "<div>\n",
       "<style scoped>\n",
       "    .dataframe tbody tr th:only-of-type {\n",
       "        vertical-align: middle;\n",
       "    }\n",
       "\n",
       "    .dataframe tbody tr th {\n",
       "        vertical-align: top;\n",
       "    }\n",
       "\n",
       "    .dataframe thead th {\n",
       "        text-align: right;\n",
       "    }\n",
       "</style>\n",
       "<table border=\"1\" class=\"dataframe\">\n",
       "  <thead>\n",
       "    <tr style=\"text-align: right;\">\n",
       "      <th></th>\n",
       "      <th>StudentID</th>\n",
       "      <th>%</th>\n",
       "    </tr>\n",
       "    <tr>\n",
       "      <th>GradeClass</th>\n",
       "      <th></th>\n",
       "      <th></th>\n",
       "    </tr>\n",
       "  </thead>\n",
       "  <tbody>\n",
       "    <tr>\n",
       "      <th>A</th>\n",
       "      <td>60</td>\n",
       "      <td>4.000000</td>\n",
       "    </tr>\n",
       "    <tr>\n",
       "      <th>B</th>\n",
       "      <td>183</td>\n",
       "      <td>12.200000</td>\n",
       "    </tr>\n",
       "    <tr>\n",
       "      <th>C</th>\n",
       "      <td>244</td>\n",
       "      <td>16.266667</td>\n",
       "    </tr>\n",
       "    <tr>\n",
       "      <th>D</th>\n",
       "      <td>248</td>\n",
       "      <td>16.533333</td>\n",
       "    </tr>\n",
       "    <tr>\n",
       "      <th>F</th>\n",
       "      <td>765</td>\n",
       "      <td>51.000000</td>\n",
       "    </tr>\n",
       "  </tbody>\n",
       "</table>\n",
       "</div>"
      ],
      "text/plain": [
       "            StudentID          %\n",
       "GradeClass                      \n",
       "A                  60   4.000000\n",
       "B                 183  12.200000\n",
       "C                 244  16.266667\n",
       "D                 248  16.533333\n",
       "F                 765  51.000000"
      ]
     },
     "execution_count": 12,
     "metadata": {},
     "output_type": "execute_result"
    }
   ],
   "source": [
    "#calculates the percentage of students in each GradeClass\n",
    "groupbyGrade['%'] = 100* groupbyGrade.StudentID / groupbyGrade.StudentID.sum()\n",
    "groupbyGrade"
   ]
  },
  {
   "cell_type": "markdown",
   "id": "fd868ffa-1f7b-4258-88c6-43094f51711a",
   "metadata": {},
   "source": [
    "**Grade A- 4.00%**\n",
    "\n",
    "**Grade B- 12.20%**\n",
    "  \n",
    "**Grade C- 16.27%**\n",
    "  \n",
    "**Grade D- 16.53%**\n",
    "  \n",
    "**Grade E- 0.00%**\n",
    "  \n",
    "**Grade F- 51.00%**"
   ]
  },
  {
   "cell_type": "markdown",
   "id": "f637f0d9-4aab-4d5d-b2c1-8244981f4a06",
   "metadata": {},
   "source": [
    "5."
   ]
  },
  {
   "cell_type": "code",
   "execution_count": 15,
   "id": "d16375c5-f694-4cfa-8e4c-8023066fc82a",
   "metadata": {},
   "outputs": [],
   "source": [
    "import matplotlib.pyplot as plt \n",
    "%matplotlib inline "
   ]
  },
  {
   "cell_type": "code",
   "execution_count": 16,
   "id": "f3df81f1-53ca-4950-9c43-e07a7266842c",
   "metadata": {},
   "outputs": [
    {
     "data": {
      "text/html": [
       "<div>\n",
       "<style scoped>\n",
       "    .dataframe tbody tr th:only-of-type {\n",
       "        vertical-align: middle;\n",
       "    }\n",
       "\n",
       "    .dataframe tbody tr th {\n",
       "        vertical-align: top;\n",
       "    }\n",
       "\n",
       "    .dataframe thead th {\n",
       "        text-align: right;\n",
       "    }\n",
       "</style>\n",
       "<table border=\"1\" class=\"dataframe\">\n",
       "  <thead>\n",
       "    <tr style=\"text-align: right;\">\n",
       "      <th></th>\n",
       "      <th>GradeClass</th>\n",
       "      <th>Student count</th>\n",
       "      <th>%</th>\n",
       "    </tr>\n",
       "  </thead>\n",
       "  <tbody>\n",
       "    <tr>\n",
       "      <th>0</th>\n",
       "      <td>A</td>\n",
       "      <td>60</td>\n",
       "      <td>4.000000</td>\n",
       "    </tr>\n",
       "    <tr>\n",
       "      <th>1</th>\n",
       "      <td>B</td>\n",
       "      <td>183</td>\n",
       "      <td>12.200000</td>\n",
       "    </tr>\n",
       "    <tr>\n",
       "      <th>2</th>\n",
       "      <td>C</td>\n",
       "      <td>244</td>\n",
       "      <td>16.266667</td>\n",
       "    </tr>\n",
       "    <tr>\n",
       "      <th>3</th>\n",
       "      <td>D</td>\n",
       "      <td>248</td>\n",
       "      <td>16.533333</td>\n",
       "    </tr>\n",
       "    <tr>\n",
       "      <th>4</th>\n",
       "      <td>F</td>\n",
       "      <td>765</td>\n",
       "      <td>51.000000</td>\n",
       "    </tr>\n",
       "  </tbody>\n",
       "</table>\n",
       "</div>"
      ],
      "text/plain": [
       "  GradeClass  Student count          %\n",
       "0          A             60   4.000000\n",
       "1          B            183  12.200000\n",
       "2          C            244  16.266667\n",
       "3          D            248  16.533333\n",
       "4          F            765  51.000000"
      ]
     },
     "execution_count": 16,
     "metadata": {},
     "output_type": "execute_result"
    }
   ],
   "source": [
    "#resets the index\n",
    "groupbyGrade = groupbyGrade.reset_index() \n",
    "\n",
    "#rename the column studentID to student count\n",
    "groupbyGrade.rename( \n",
    "columns={\"StudentID\":\"Student count\"}, \n",
    "inplace = True \n",
    ") \n",
    "\n",
    "#display updates\n",
    "groupbyGrade"
   ]
  },
  {
   "cell_type": "code",
   "execution_count": 17,
   "id": "c32a825b-693c-49a2-901d-ec1f283ccdac",
   "metadata": {},
   "outputs": [
    {
     "data": {
      "image/png": "[encoded data removed]",
      "text/plain": [
       "<Figure size 640x480 with 1 Axes>"
      ]
     },
     "metadata": {},
     "output_type": "display_data"
    }
   ],
   "source": [
    "#creates pie chart using 'student count' from 'gradeclass'\n",
    "plt.pie(groupbyGrade['Student count'], labels=groupbyGrade['GradeClass'])\n",
    "\n",
    "#set the title \n",
    "plt.title(\"Proportion of Students in Each GradeClass\")\n",
    "\n",
    "#display\n",
    "plt.show()"
   ]
  },
  {
   "cell_type": "markdown",
   "id": "e81d5fc3-91ff-4363-8e16-0c1c23af1644",
   "metadata": {},
   "source": [
    "**The dataset shows that a concerning 51% of students fall into the F Grade catergory, indictaing GPAs below 2.0, while only 4% of students have acheived an A grade with GPAs of 3.5 or higher. This suggests that a majority of students are struggling academicaly, with only a small fraction excelling. The remaining studnets are distributed across B, C and D grades, with percentages gradually increasing from 12.2% to 16.53%, reflecting average to below-average performance for a significant portion of the student body.**"
   ]
  },
  {
   "cell_type": "markdown",
   "id": "d6cf0f17-6791-416a-8c7d-6ed3ba9b9d7e",
   "metadata": {},
   "source": [
    "# A2. Exploring Parental Education"
   ]
  },
  {
   "cell_type": "markdown",
   "id": "86aec2cf-73b8-4464-9ddf-0557af76b2ef",
   "metadata": {},
   "source": [
    "1."
   ]
  },
  {
   "cell_type": "code",
   "execution_count": 21,
   "id": "512aae31-c906-4869-9be4-a53c26a73f1d",
   "metadata": {},
   "outputs": [
    {
     "data": {
      "text/html": [
       "<div>\n",
       "<style scoped>\n",
       "    .dataframe tbody tr th:only-of-type {\n",
       "        vertical-align: middle;\n",
       "    }\n",
       "\n",
       "    .dataframe tbody tr th {\n",
       "        vertical-align: top;\n",
       "    }\n",
       "\n",
       "    .dataframe thead th {\n",
       "        text-align: right;\n",
       "    }\n",
       "</style>\n",
       "<table border=\"1\" class=\"dataframe\">\n",
       "  <thead>\n",
       "    <tr style=\"text-align: right;\">\n",
       "      <th></th>\n",
       "      <th>StudentID</th>\n",
       "    </tr>\n",
       "    <tr>\n",
       "      <th>ParentalEducation</th>\n",
       "      <th></th>\n",
       "    </tr>\n",
       "  </thead>\n",
       "  <tbody>\n",
       "    <tr>\n",
       "      <th>Bachelor's</th>\n",
       "      <td>234</td>\n",
       "    </tr>\n",
       "    <tr>\n",
       "      <th>High School</th>\n",
       "      <td>458</td>\n",
       "    </tr>\n",
       "    <tr>\n",
       "      <th>Higher</th>\n",
       "      <td>77</td>\n",
       "    </tr>\n",
       "    <tr>\n",
       "      <th>No Education</th>\n",
       "      <td>154</td>\n",
       "    </tr>\n",
       "    <tr>\n",
       "      <th>Some College</th>\n",
       "      <td>577</td>\n",
       "    </tr>\n",
       "  </tbody>\n",
       "</table>\n",
       "</div>"
      ],
      "text/plain": [
       "                   StudentID\n",
       "ParentalEducation           \n",
       "Bachelor's               234\n",
       "High School              458\n",
       "Higher                    77\n",
       "No Education             154\n",
       "Some College             577"
      ]
     },
     "execution_count": 21,
     "metadata": {},
     "output_type": "execute_result"
    }
   ],
   "source": [
    "# group student DF by parental education\n",
    "# then aggregrate using previosuly defined grade function\n",
    "groupbyPE = student.groupby('ParentalEducation').agg(grade) \n",
    "# grade agg is defined in section A1\n",
    "\n",
    "#display results\n",
    "groupbyPE"
   ]
  },
  {
   "cell_type": "code",
   "execution_count": 22,
   "id": "bdab566a-7944-40ff-b47f-d954f566207e",
   "metadata": {},
   "outputs": [
    {
     "data": {
      "text/html": [
       "<div>\n",
       "<style scoped>\n",
       "    .dataframe tbody tr th:only-of-type {\n",
       "        vertical-align: middle;\n",
       "    }\n",
       "\n",
       "    .dataframe tbody tr th {\n",
       "        vertical-align: top;\n",
       "    }\n",
       "\n",
       "    .dataframe thead th {\n",
       "        text-align: right;\n",
       "    }\n",
       "</style>\n",
       "<table border=\"1\" class=\"dataframe\">\n",
       "  <thead>\n",
       "    <tr style=\"text-align: right;\">\n",
       "      <th></th>\n",
       "      <th>frequency</th>\n",
       "    </tr>\n",
       "    <tr>\n",
       "      <th>ParentalEducation</th>\n",
       "      <th></th>\n",
       "    </tr>\n",
       "  </thead>\n",
       "  <tbody>\n",
       "    <tr>\n",
       "      <th>Bachelor's</th>\n",
       "      <td>234</td>\n",
       "    </tr>\n",
       "    <tr>\n",
       "      <th>High School</th>\n",
       "      <td>458</td>\n",
       "    </tr>\n",
       "    <tr>\n",
       "      <th>Higher</th>\n",
       "      <td>77</td>\n",
       "    </tr>\n",
       "    <tr>\n",
       "      <th>No Education</th>\n",
       "      <td>154</td>\n",
       "    </tr>\n",
       "    <tr>\n",
       "      <th>Some College</th>\n",
       "      <td>577</td>\n",
       "    </tr>\n",
       "  </tbody>\n",
       "</table>\n",
       "</div>"
      ],
      "text/plain": [
       "                   frequency\n",
       "ParentalEducation           \n",
       "Bachelor's               234\n",
       "High School              458\n",
       "Higher                    77\n",
       "No Education             154\n",
       "Some College             577"
      ]
     },
     "execution_count": 22,
     "metadata": {},
     "output_type": "execute_result"
    }
   ],
   "source": [
    "#rename studentID to frequency\n",
    "groupbyPE.rename( \n",
    "columns={\"StudentID\":\"frequency\"}, \n",
    "inplace = True \n",
    ") \n",
    "\n",
    "#display updates\n",
    "groupbyPE"
   ]
  },
  {
   "cell_type": "markdown",
   "id": "0f77b89f-f734-491b-8a59-f130cbf6a4dd",
   "metadata": {},
   "source": [
    "**1a. How many parents have the highest education level (denoted by Higher)\n",
    "in this dataset?**\n",
    "77 parents\n",
    "\n",
    "**b. How many have no education?**\n",
    "154 parents\n",
    "\n",
    "**c. What is the most common level of parental education?**\n",
    "some college is the most common level"
   ]
  },
  {
   "cell_type": "markdown",
   "id": "17926c66-36e6-405d-8692-1808786376ce",
   "metadata": {},
   "source": [
    "2."
   ]
  },
  {
   "cell_type": "code",
   "execution_count": 25,
   "id": "c15b34fb-509c-4d53-81b0-3f9aa5b58eb4",
   "metadata": {},
   "outputs": [
    {
     "data": {
      "text/html": [
       "<div>\n",
       "<style scoped>\n",
       "    .dataframe tbody tr th:only-of-type {\n",
       "        vertical-align: middle;\n",
       "    }\n",
       "\n",
       "    .dataframe tbody tr th {\n",
       "        vertical-align: top;\n",
       "    }\n",
       "\n",
       "    .dataframe thead th {\n",
       "        text-align: right;\n",
       "    }\n",
       "</style>\n",
       "<table border=\"1\" class=\"dataframe\">\n",
       "  <thead>\n",
       "    <tr style=\"text-align: right;\">\n",
       "      <th></th>\n",
       "      <th>frequency</th>\n",
       "    </tr>\n",
       "    <tr>\n",
       "      <th>ParentalEducation</th>\n",
       "      <th></th>\n",
       "    </tr>\n",
       "  </thead>\n",
       "  <tbody>\n",
       "    <tr>\n",
       "      <th>No Education</th>\n",
       "      <td>154</td>\n",
       "    </tr>\n",
       "    <tr>\n",
       "      <th>High School</th>\n",
       "      <td>458</td>\n",
       "    </tr>\n",
       "    <tr>\n",
       "      <th>Some College</th>\n",
       "      <td>577</td>\n",
       "    </tr>\n",
       "    <tr>\n",
       "      <th>Bachelor's</th>\n",
       "      <td>234</td>\n",
       "    </tr>\n",
       "    <tr>\n",
       "      <th>Higher</th>\n",
       "      <td>77</td>\n",
       "    </tr>\n",
       "  </tbody>\n",
       "</table>\n",
       "</div>"
      ],
      "text/plain": [
       "                   frequency\n",
       "ParentalEducation           \n",
       "No Education             154\n",
       "High School              458\n",
       "Some College             577\n",
       "Bachelor's               234\n",
       "Higher                    77"
      ]
     },
     "execution_count": 25,
     "metadata": {},
     "output_type": "execute_result"
    }
   ],
   "source": [
    "# reindex it so we get the order we want \n",
    "groupbyPE = groupbyPE.reindex(\n",
    "    ['No Education', 'High School', 'Some College', \"Bachelor's\", 'Higher'])\n",
    "\n",
    "# display the changes\n",
    "groupbyPE"
   ]
  },
  {
   "cell_type": "code",
   "execution_count": 26,
   "id": "a5d2fc56-348d-4381-83a6-120ce8f706e7",
   "metadata": {},
   "outputs": [
    {
     "data": {
      "text/html": [
       "<div>\n",
       "<style scoped>\n",
       "    .dataframe tbody tr th:only-of-type {\n",
       "        vertical-align: middle;\n",
       "    }\n",
       "\n",
       "    .dataframe tbody tr th {\n",
       "        vertical-align: top;\n",
       "    }\n",
       "\n",
       "    .dataframe thead th {\n",
       "        text-align: right;\n",
       "    }\n",
       "</style>\n",
       "<table border=\"1\" class=\"dataframe\">\n",
       "  <thead>\n",
       "    <tr style=\"text-align: right;\">\n",
       "      <th></th>\n",
       "      <th>ParentalEducation</th>\n",
       "      <th>frequency</th>\n",
       "    </tr>\n",
       "  </thead>\n",
       "  <tbody>\n",
       "    <tr>\n",
       "      <th>0</th>\n",
       "      <td>No Education</td>\n",
       "      <td>154</td>\n",
       "    </tr>\n",
       "    <tr>\n",
       "      <th>1</th>\n",
       "      <td>High School</td>\n",
       "      <td>458</td>\n",
       "    </tr>\n",
       "    <tr>\n",
       "      <th>2</th>\n",
       "      <td>Some College</td>\n",
       "      <td>577</td>\n",
       "    </tr>\n",
       "    <tr>\n",
       "      <th>3</th>\n",
       "      <td>Bachelor's</td>\n",
       "      <td>234</td>\n",
       "    </tr>\n",
       "    <tr>\n",
       "      <th>4</th>\n",
       "      <td>Higher</td>\n",
       "      <td>77</td>\n",
       "    </tr>\n",
       "  </tbody>\n",
       "</table>\n",
       "</div>"
      ],
      "text/plain": [
       "  ParentalEducation  frequency\n",
       "0      No Education        154\n",
       "1       High School        458\n",
       "2      Some College        577\n",
       "3        Bachelor's        234\n",
       "4            Higher         77"
      ]
     },
     "execution_count": 26,
     "metadata": {},
     "output_type": "execute_result"
    }
   ],
   "source": [
    "# reset the index\n",
    "groupbyPE = groupbyPE.reset_index() \n",
    "\n",
    "# display\n",
    "groupbyPE"
   ]
  },
  {
   "cell_type": "markdown",
   "id": "6c6d1858-426a-4fc7-9ceb-e5c1e2516e89",
   "metadata": {},
   "source": [
    "3."
   ]
  },
  {
   "cell_type": "code",
   "execution_count": 28,
   "id": "b70a2ae1-4b8b-4a12-9eb6-d1e96815d8b6",
   "metadata": {},
   "outputs": [
    {
     "data": {
      "image/png": "[encoded data removed]",
      "text/plain": [
       "<Figure size 640x480 with 1 Axes>"
      ]
     },
     "metadata": {},
     "output_type": "display_data"
    }
   ],
   "source": [
    "#defines the order that I want the boxplot categories to be\n",
    "order = ['No Education', 'High School', 'Some College', \"Bachelor's\", 'Higher']\n",
    "student['ParentalEducation'] = pd.Categorical(\n",
    "    student['ParentalEducation'], categories=order, ordered=True) \n",
    "#pd.categorical functions to convert the parents education variable \n",
    "#into a categorical variable\n",
    "#categories=order and ordered=True functions makes sure that \n",
    "#the order defined previously is obtained\n",
    "\n",
    "#creates boxplot of GPA for eahc parental education category \n",
    "student.boxplot(column='GPA', by='ParentalEducation')\n",
    "\n",
    "#sets  y-limits and labels for axis\n",
    "plt.ylim(-0.5, 4.5)\n",
    "plt.ylabel('GPA')\n",
    "plt.xlabel('Parental Education')\n",
    "plt.title(\"to see affect on GPA\")#adds to the already given title\n",
    "\n",
    "#displays\n",
    "plt.show()"
   ]
  },
  {
   "cell_type": "markdown",
   "id": "f3c5c324-6014-4c9f-9ced-266ed7cefe58",
   "metadata": {},
   "source": [
    "**The boxplot shows the distribution of student GPAs across different levels of parental education. From the plot, we can observe that there is no significant difference in the median GPA scores among the different categories of parental education, as the median GPA hovers just below 2.0 for all groups. The spread of the GPA scores is also quite similar across the categories, with all of them ranging from 0 to 4 in each group. This suggests that parental education level does not have a strong or clear impact on student GPA, as students from all educational backgrounds of parents show a similar distribution of GPA scores.**"
   ]
  },
  {
   "cell_type": "markdown",
   "id": "b44b37d0-8b72-49e0-a027-45d605c5070c",
   "metadata": {},
   "source": [
    "# A3. GPA distribution and Correlation Analysis"
   ]
  },
  {
   "cell_type": "markdown",
   "id": "430177bd-f923-42b9-90a5-23945d24b5b2",
   "metadata": {},
   "source": [
    "1."
   ]
  },
  {
   "cell_type": "code",
   "execution_count": 32,
   "id": "721a8eb2-f65f-4e93-ad5d-fd0e13965510",
   "metadata": {},
   "outputs": [
    {
     "data": {
      "image/png": "[encoded data removed]",
      "text/plain": [
       "<Figure size 640x480 with 1 Axes>"
      ]
     },
     "metadata": {},
     "output_type": "display_data"
    }
   ],
   "source": [
    "#creates histogram with 8 bins\n",
    "student.GPA.hist(bins = 8) \n",
    "\n",
    "#sets limits\n",
    "plt.xlim(0,4)               \n",
    "plt.ylim(0,300)\n",
    "\n",
    "#sets labels\n",
    "plt.title(\"GPA Histogram\")\n",
    "plt.xlabel(\"GPA\")\n",
    "plt.ylabel(\"No. of students\")\n",
    "\n",
    "#displays\n",
    "plt.show()\n"
   ]
  },
  {
   "cell_type": "markdown",
   "id": "8a0a1edc-e543-48ca-b7b0-77acadcaa65b",
   "metadata": {},
   "source": [
    "**The histogram displays the distribution of students' GPAs. The GPAs are spread out across the scale from 0 to 4, with the majority of students falling within the 1.0 to 3.0 GPA range. The highest concentration of students is around 1.5 to 2.0 GPA mark, indicating that this is the most common GPA range. The number of students decreases as the GPA moves towards the extremes of 0.0 to 0.5 and 3.5 to 4.0, suggesting that very low and very high GPAs are less common among the students in this dataset. The distribution is roughly symmetric, suggesting that most students have GPAs around the average, with fewer students at the high and low extremes.**"
   ]
  },
  {
   "cell_type": "markdown",
   "id": "6856e706-2040-4243-9228-b76dabcd70cd",
   "metadata": {},
   "source": [
    "2."
   ]
  },
  {
   "cell_type": "code",
   "execution_count": 35,
   "id": "9522be2e-d2a7-42f5-a00a-3826c462215f",
   "metadata": {},
   "outputs": [
    {
     "data": {
      "image/png": "[encoded data removed]",
      "text/plain": [
       "<Figure size 640x480 with 1 Axes>"
      ]
     },
     "metadata": {},
     "output_type": "display_data"
    }
   ],
   "source": [
    "#creates scatter plot- GPA vs Weekly Study Time\n",
    "plt.scatter(student['GPA'], student['StudyTimeWeekly'])\n",
    "\n",
    "#ses labels \n",
    "plt.title(\"Weekly Study Time vs GPA\")\n",
    "plt.xlabel('StudyTimeWeekly')\n",
    "plt.ylabel('GPA')\n",
    "\n",
    "#displays\n",
    "plt.show() "
   ]
  },
  {
   "cell_type": "code",
   "execution_count": 36,
   "id": "62f8499c-3295-48ae-b3c7-bb95acb3bee6",
   "metadata": {},
   "outputs": [
    {
     "name": "stdout",
     "output_type": "stream",
     "text": [
      "0.19049313037112514\n"
     ]
    }
   ],
   "source": [
    "#calculates correlation  \n",
    "correlation = student['GPA'].corr(student['StudyTimeWeekly'])\n",
    "\n",
    "#prints it\n",
    "print(correlation)"
   ]
  },
  {
   "cell_type": "markdown",
   "id": "dac90a7b-fa30-4b67-94fa-1e0ea148bac1",
   "metadata": {},
   "source": [
    "**From the scatterplot, it can be seen that there is a weak positive correlation between the time a student spends studying during the week and their GPA. This is supported by the correlation coefficient of approximately 0.19. This suggests that while there is a slight tendency for higher study time to be associated with a higher GPA, the relationship is not strong. The weak correlation indicates that other factors may also pay a significant role in influencing GPA, and increasing study time alone may not have a substantial impact on academic performance.**"
   ]
  },
  {
   "cell_type": "markdown",
   "id": "de08e54f-db0d-43d9-982f-a0da17fec1d9",
   "metadata": {},
   "source": [
    "3."
   ]
  },
  {
   "cell_type": "code",
   "execution_count": 39,
   "id": "af075a4b-a65a-44b8-ad13-c034f3e7b0be",
   "metadata": {},
   "outputs": [
    {
     "data": {
      "image/png": "[encoded data removed]",
      "text/plain": [
       "<Figure size 640x480 with 1 Axes>"
      ]
     },
     "metadata": {},
     "output_type": "display_data"
    }
   ],
   "source": [
    "#creates scatter plot- GPA vs no. of absences\n",
    "plt.scatter(student['GPA'], student['Absences'])\n",
    "\n",
    "# creates labels\n",
    "plt.title(\"Student Absences vs GPA\")\n",
    "plt.xlabel('No. of Absences')\n",
    "plt.ylabel('GPA')\n",
    "\n",
    "#displays\n",
    "plt.show() "
   ]
  },
  {
   "cell_type": "code",
   "execution_count": 40,
   "id": "0ea76954-211d-4c7c-9a04-680726179134",
   "metadata": {},
   "outputs": [
    {
     "name": "stdout",
     "output_type": "stream",
     "text": [
      "-0.919487694329095\n"
     ]
    }
   ],
   "source": [
    "#calculates correlation\n",
    "correlation2 = student['GPA'].corr(student['Absences'])\n",
    "\n",
    "#prints it\n",
    "print(correlation2)"
   ]
  },
  {
   "cell_type": "markdown",
   "id": "6b08ccdf-c730-4559-b944-70239e1fc95c",
   "metadata": {},
   "source": [
    "**By observing the scatterplot, it can be seen that there is a clear strong negative correlation between the number of absences a student takes and their GPA. This is supported by the correlation coefficient of approximately -0.92. This means that as the number of absences increase, GPA scores tend to decrease significantly. The strong negative value suggests that higher levels of absenteeism are strongly associated with lower academic performance, implying that reducing absences could potentially improve GPA.**"
   ]
  },
  {
   "cell_type": "markdown",
   "id": "0d9faddc-2c3b-4fc8-a4dd-8f6f0b2f6c29",
   "metadata": {},
   "source": [
    "# A4. Extracurricular Activities"
   ]
  },
  {
   "cell_type": "markdown",
   "id": "faefb575-a7b4-4bfb-bca9-eeed7d7dca1f",
   "metadata": {},
   "source": [
    "1. "
   ]
  },
  {
   "cell_type": "code",
   "execution_count": 44,
   "id": "1d00b8c8-f494-4bad-ba5b-f4478b03262f",
   "metadata": {},
   "outputs": [
    {
     "name": "stdout",
     "output_type": "stream",
     "text": [
      "Group A:\n"
     ]
    },
    {
     "data": {
      "text/html": [
       "<div>\n",
       "<style scoped>\n",
       "    .dataframe tbody tr th:only-of-type {\n",
       "        vertical-align: middle;\n",
       "    }\n",
       "\n",
       "    .dataframe tbody tr th {\n",
       "        vertical-align: top;\n",
       "    }\n",
       "\n",
       "    .dataframe thead th {\n",
       "        text-align: right;\n",
       "    }\n",
       "</style>\n",
       "<table border=\"1\" class=\"dataframe\">\n",
       "  <thead>\n",
       "    <tr style=\"text-align: right;\">\n",
       "      <th></th>\n",
       "      <th>StudentID</th>\n",
       "      <th>Age</th>\n",
       "      <th>ParentalEducation</th>\n",
       "      <th>StudyTimeWeekly</th>\n",
       "      <th>Absences</th>\n",
       "      <th>Tutoring</th>\n",
       "      <th>ParentalSupport</th>\n",
       "      <th>Extracurricular</th>\n",
       "      <th>Sports</th>\n",
       "      <th>Music</th>\n",
       "      <th>Volunteering</th>\n",
       "      <th>GPA</th>\n",
       "      <th>GradeClass</th>\n",
       "    </tr>\n",
       "  </thead>\n",
       "  <tbody>\n",
       "    <tr>\n",
       "      <th>106</th>\n",
       "      <td>2323</td>\n",
       "      <td>15</td>\n",
       "      <td>Some College</td>\n",
       "      <td>3.402855</td>\n",
       "      <td>4</td>\n",
       "      <td>No</td>\n",
       "      <td>1</td>\n",
       "      <td>Yes</td>\n",
       "      <td>Yes</td>\n",
       "      <td>Yes</td>\n",
       "      <td>Yes</td>\n",
       "      <td>2.517229</td>\n",
       "      <td>C</td>\n",
       "    </tr>\n",
       "    <tr>\n",
       "      <th>189</th>\n",
       "      <td>1838</td>\n",
       "      <td>15</td>\n",
       "      <td>Bachelor's</td>\n",
       "      <td>4.424756</td>\n",
       "      <td>21</td>\n",
       "      <td>Yes</td>\n",
       "      <td>2</td>\n",
       "      <td>Yes</td>\n",
       "      <td>Yes</td>\n",
       "      <td>Yes</td>\n",
       "      <td>Yes</td>\n",
       "      <td>1.943573</td>\n",
       "      <td>F</td>\n",
       "    </tr>\n",
       "    <tr>\n",
       "      <th>710</th>\n",
       "      <td>2981</td>\n",
       "      <td>15</td>\n",
       "      <td>Some College</td>\n",
       "      <td>18.652914</td>\n",
       "      <td>27</td>\n",
       "      <td>Yes</td>\n",
       "      <td>4</td>\n",
       "      <td>Yes</td>\n",
       "      <td>Yes</td>\n",
       "      <td>Yes</td>\n",
       "      <td>Yes</td>\n",
       "      <td>1.585820</td>\n",
       "      <td>F</td>\n",
       "    </tr>\n",
       "    <tr>\n",
       "      <th>733</th>\n",
       "      <td>2204</td>\n",
       "      <td>16</td>\n",
       "      <td>Bachelor's</td>\n",
       "      <td>8.468776</td>\n",
       "      <td>8</td>\n",
       "      <td>Yes</td>\n",
       "      <td>2</td>\n",
       "      <td>Yes</td>\n",
       "      <td>Yes</td>\n",
       "      <td>Yes</td>\n",
       "      <td>Yes</td>\n",
       "      <td>2.901186</td>\n",
       "      <td>C</td>\n",
       "    </tr>\n",
       "    <tr>\n",
       "      <th>1449</th>\n",
       "      <td>1448</td>\n",
       "      <td>16</td>\n",
       "      <td>Some College</td>\n",
       "      <td>13.812455</td>\n",
       "      <td>3</td>\n",
       "      <td>No</td>\n",
       "      <td>3</td>\n",
       "      <td>Yes</td>\n",
       "      <td>Yes</td>\n",
       "      <td>Yes</td>\n",
       "      <td>Yes</td>\n",
       "      <td>3.289823</td>\n",
       "      <td>B</td>\n",
       "    </tr>\n",
       "  </tbody>\n",
       "</table>\n",
       "</div>"
      ],
      "text/plain": [
       "      StudentID  Age ParentalEducation  StudyTimeWeekly  Absences Tutoring  \\\n",
       "106        2323   15      Some College         3.402855         4       No   \n",
       "189        1838   15        Bachelor's         4.424756        21      Yes   \n",
       "710        2981   15      Some College        18.652914        27      Yes   \n",
       "733        2204   16        Bachelor's         8.468776         8      Yes   \n",
       "1449       1448   16      Some College        13.812455         3       No   \n",
       "\n",
       "      ParentalSupport Extracurricular Sports Music Volunteering       GPA  \\\n",
       "106                 1             Yes    Yes   Yes          Yes  2.517229   \n",
       "189                 2             Yes    Yes   Yes          Yes  1.943573   \n",
       "710                 4             Yes    Yes   Yes          Yes  1.585820   \n",
       "733                 2             Yes    Yes   Yes          Yes  2.901186   \n",
       "1449                3             Yes    Yes   Yes          Yes  3.289823   \n",
       "\n",
       "     GradeClass  \n",
       "106           C  \n",
       "189           F  \n",
       "710           F  \n",
       "733           C  \n",
       "1449          B  "
      ]
     },
     "execution_count": 44,
     "metadata": {},
     "output_type": "execute_result"
    }
   ],
   "source": [
    "#filters the DF to include students involved in the required activities \n",
    "#(in all activities in this case)\n",
    "all_activities = student[(student['Sports'] == 'Yes') & \n",
    "                            (student['Music'] == 'Yes') &\n",
    "                            (student['Volunteering'] == 'Yes') &\n",
    "                            (student['Extracurricular'] == 'Yes')]\n",
    "print('Group A:') #prints the label for the filtered group \n",
    "all_activities #displays the filered DF"
   ]
  },
  {
   "cell_type": "markdown",
   "id": "9fb46009-6f89-41b1-a8d9-a6590c424cc7",
   "metadata": {},
   "source": [
    "**There are five students who are involved in all 4 activities**"
   ]
  },
  {
   "cell_type": "markdown",
   "id": "8abaa90a-5b6c-4916-8d92-27f2dd6ee5c0",
   "metadata": {},
   "source": [
    "2."
   ]
  },
  {
   "cell_type": "code",
   "execution_count": 47,
   "id": "3f4c9740-6d53-4b6d-ba06-7c9850ad7c59",
   "metadata": {},
   "outputs": [
    {
     "name": "stdout",
     "output_type": "stream",
     "text": [
      "Group B:\n"
     ]
    },
    {
     "data": {
      "text/html": [
       "<div>\n",
       "<style scoped>\n",
       "    .dataframe tbody tr th:only-of-type {\n",
       "        vertical-align: middle;\n",
       "    }\n",
       "\n",
       "    .dataframe tbody tr th {\n",
       "        vertical-align: top;\n",
       "    }\n",
       "\n",
       "    .dataframe thead th {\n",
       "        text-align: right;\n",
       "    }\n",
       "</style>\n",
       "<table border=\"1\" class=\"dataframe\">\n",
       "  <thead>\n",
       "    <tr style=\"text-align: right;\">\n",
       "      <th></th>\n",
       "      <th>StudentID</th>\n",
       "      <th>Age</th>\n",
       "      <th>ParentalEducation</th>\n",
       "      <th>StudyTimeWeekly</th>\n",
       "      <th>Absences</th>\n",
       "      <th>Tutoring</th>\n",
       "      <th>ParentalSupport</th>\n",
       "      <th>Extracurricular</th>\n",
       "      <th>Sports</th>\n",
       "      <th>Music</th>\n",
       "      <th>Volunteering</th>\n",
       "      <th>GPA</th>\n",
       "      <th>GradeClass</th>\n",
       "    </tr>\n",
       "  </thead>\n",
       "  <tbody>\n",
       "    <tr>\n",
       "      <th>3</th>\n",
       "      <td>1628</td>\n",
       "      <td>16</td>\n",
       "      <td>High School</td>\n",
       "      <td>6.304335</td>\n",
       "      <td>8</td>\n",
       "      <td>No</td>\n",
       "      <td>3</td>\n",
       "      <td>No</td>\n",
       "      <td>No</td>\n",
       "      <td>No</td>\n",
       "      <td>No</td>\n",
       "      <td>2.150546</td>\n",
       "      <td>D</td>\n",
       "    </tr>\n",
       "    <tr>\n",
       "      <th>6</th>\n",
       "      <td>2555</td>\n",
       "      <td>18</td>\n",
       "      <td>Some College</td>\n",
       "      <td>3.521786</td>\n",
       "      <td>22</td>\n",
       "      <td>No</td>\n",
       "      <td>4</td>\n",
       "      <td>No</td>\n",
       "      <td>No</td>\n",
       "      <td>No</td>\n",
       "      <td>No</td>\n",
       "      <td>0.935779</td>\n",
       "      <td>F</td>\n",
       "    </tr>\n",
       "    <tr>\n",
       "      <th>7</th>\n",
       "      <td>2513</td>\n",
       "      <td>15</td>\n",
       "      <td>High School</td>\n",
       "      <td>4.459000</td>\n",
       "      <td>27</td>\n",
       "      <td>No</td>\n",
       "      <td>1</td>\n",
       "      <td>No</td>\n",
       "      <td>No</td>\n",
       "      <td>No</td>\n",
       "      <td>No</td>\n",
       "      <td>0.000000</td>\n",
       "      <td>F</td>\n",
       "    </tr>\n",
       "    <tr>\n",
       "      <th>8</th>\n",
       "      <td>2811</td>\n",
       "      <td>16</td>\n",
       "      <td>Some College</td>\n",
       "      <td>7.520836</td>\n",
       "      <td>5</td>\n",
       "      <td>No</td>\n",
       "      <td>0</td>\n",
       "      <td>No</td>\n",
       "      <td>No</td>\n",
       "      <td>No</td>\n",
       "      <td>No</td>\n",
       "      <td>2.631368</td>\n",
       "      <td>C</td>\n",
       "    </tr>\n",
       "    <tr>\n",
       "      <th>11</th>\n",
       "      <td>1220</td>\n",
       "      <td>17</td>\n",
       "      <td>High School</td>\n",
       "      <td>1.232160</td>\n",
       "      <td>17</td>\n",
       "      <td>No</td>\n",
       "      <td>3</td>\n",
       "      <td>No</td>\n",
       "      <td>No</td>\n",
       "      <td>No</td>\n",
       "      <td>No</td>\n",
       "      <td>1.465549</td>\n",
       "      <td>F</td>\n",
       "    </tr>\n",
       "    <tr>\n",
       "      <th>...</th>\n",
       "      <td>...</td>\n",
       "      <td>...</td>\n",
       "      <td>...</td>\n",
       "      <td>...</td>\n",
       "      <td>...</td>\n",
       "      <td>...</td>\n",
       "      <td>...</td>\n",
       "      <td>...</td>\n",
       "      <td>...</td>\n",
       "      <td>...</td>\n",
       "      <td>...</td>\n",
       "      <td>...</td>\n",
       "      <td>...</td>\n",
       "    </tr>\n",
       "    <tr>\n",
       "      <th>1479</th>\n",
       "      <td>2978</td>\n",
       "      <td>17</td>\n",
       "      <td>High School</td>\n",
       "      <td>9.921510</td>\n",
       "      <td>4</td>\n",
       "      <td>No</td>\n",
       "      <td>1</td>\n",
       "      <td>No</td>\n",
       "      <td>No</td>\n",
       "      <td>No</td>\n",
       "      <td>No</td>\n",
       "      <td>2.307597</td>\n",
       "      <td>D</td>\n",
       "    </tr>\n",
       "    <tr>\n",
       "      <th>1483</th>\n",
       "      <td>2773</td>\n",
       "      <td>15</td>\n",
       "      <td>High School</td>\n",
       "      <td>4.915006</td>\n",
       "      <td>21</td>\n",
       "      <td>No</td>\n",
       "      <td>2</td>\n",
       "      <td>No</td>\n",
       "      <td>No</td>\n",
       "      <td>No</td>\n",
       "      <td>No</td>\n",
       "      <td>0.728795</td>\n",
       "      <td>F</td>\n",
       "    </tr>\n",
       "    <tr>\n",
       "      <th>1487</th>\n",
       "      <td>1585</td>\n",
       "      <td>16</td>\n",
       "      <td>Some College</td>\n",
       "      <td>12.276919</td>\n",
       "      <td>22</td>\n",
       "      <td>No</td>\n",
       "      <td>4</td>\n",
       "      <td>No</td>\n",
       "      <td>No</td>\n",
       "      <td>No</td>\n",
       "      <td>No</td>\n",
       "      <td>1.583084</td>\n",
       "      <td>F</td>\n",
       "    </tr>\n",
       "    <tr>\n",
       "      <th>1489</th>\n",
       "      <td>2049</td>\n",
       "      <td>15</td>\n",
       "      <td>Bachelor's</td>\n",
       "      <td>6.997909</td>\n",
       "      <td>21</td>\n",
       "      <td>No</td>\n",
       "      <td>3</td>\n",
       "      <td>No</td>\n",
       "      <td>No</td>\n",
       "      <td>No</td>\n",
       "      <td>No</td>\n",
       "      <td>1.137900</td>\n",
       "      <td>F</td>\n",
       "    </tr>\n",
       "    <tr>\n",
       "      <th>1497</th>\n",
       "      <td>3268</td>\n",
       "      <td>18</td>\n",
       "      <td>Some College</td>\n",
       "      <td>7.598010</td>\n",
       "      <td>0</td>\n",
       "      <td>Yes</td>\n",
       "      <td>3</td>\n",
       "      <td>No</td>\n",
       "      <td>No</td>\n",
       "      <td>No</td>\n",
       "      <td>No</td>\n",
       "      <td>3.040730</td>\n",
       "      <td>F</td>\n",
       "    </tr>\n",
       "  </tbody>\n",
       "</table>\n",
       "<p>432 rows × 13 columns</p>\n",
       "</div>"
      ],
      "text/plain": [
       "      StudentID  Age ParentalEducation  StudyTimeWeekly  Absences Tutoring  \\\n",
       "3          1628   16       High School         6.304335         8       No   \n",
       "6          2555   18      Some College         3.521786        22       No   \n",
       "7          2513   15       High School         4.459000        27       No   \n",
       "8          2811   16      Some College         7.520836         5       No   \n",
       "11         1220   17       High School         1.232160        17       No   \n",
       "...         ...  ...               ...              ...       ...      ...   \n",
       "1479       2978   17       High School         9.921510         4       No   \n",
       "1483       2773   15       High School         4.915006        21       No   \n",
       "1487       1585   16      Some College        12.276919        22       No   \n",
       "1489       2049   15        Bachelor's         6.997909        21       No   \n",
       "1497       3268   18      Some College         7.598010         0      Yes   \n",
       "\n",
       "      ParentalSupport Extracurricular Sports Music Volunteering       GPA  \\\n",
       "3                   3              No     No    No           No  2.150546   \n",
       "6                   4              No     No    No           No  0.935779   \n",
       "7                   1              No     No    No           No  0.000000   \n",
       "8                   0              No     No    No           No  2.631368   \n",
       "11                  3              No     No    No           No  1.465549   \n",
       "...               ...             ...    ...   ...          ...       ...   \n",
       "1479                1              No     No    No           No  2.307597   \n",
       "1483                2              No     No    No           No  0.728795   \n",
       "1487                4              No     No    No           No  1.583084   \n",
       "1489                3              No     No    No           No  1.137900   \n",
       "1497                3              No     No    No           No  3.040730   \n",
       "\n",
       "     GradeClass  \n",
       "3             D  \n",
       "6             F  \n",
       "7             F  \n",
       "8             C  \n",
       "11            F  \n",
       "...         ...  \n",
       "1479          D  \n",
       "1483          F  \n",
       "1487          F  \n",
       "1489          F  \n",
       "1497          F  \n",
       "\n",
       "[432 rows x 13 columns]"
      ]
     },
     "execution_count": 47,
     "metadata": {},
     "output_type": "execute_result"
    }
   ],
   "source": [
    "#filters the DF to include students NOT involved in the specific activities \n",
    "#(in none of the activities in this case)\n",
    "no_activities = student[(student['Sports'] == 'No') & \n",
    "                            (student['Music'] == 'No') &\n",
    "                            (student['Volunteering'] == 'No') &\n",
    "                            (student['Extracurricular'] == 'No')]\n",
    "print('Group B:') #prints label for group B\n",
    "no_activities #Displays the filtered DF"
   ]
  },
  {
   "cell_type": "markdown",
   "id": "514c6dbd-9791-48ba-80d2-cd6d3d64ce3b",
   "metadata": {},
   "source": [
    "**There are 432 students who are in none of the 4 activities**"
   ]
  },
  {
   "cell_type": "markdown",
   "id": "8091d92b-708f-4e52-b7a2-3eb0c25aaf6e",
   "metadata": {},
   "source": [
    "3."
   ]
  },
  {
   "cell_type": "code",
   "execution_count": 50,
   "id": "a030a7a6-0b4d-4c8a-851c-0092f3dc3b73",
   "metadata": {},
   "outputs": [
    {
     "name": "stdout",
     "output_type": "stream",
     "text": [
      "Group A Mean GPA: 2.4475262217999996\n",
      "Group B Mean GPA: 1.7312226005532407\n"
     ]
    }
   ],
   "source": [
    "#calculates the mean GPA of studnets involved in all activities (GroupA)\n",
    "mean_gpa1 = all_activities['GPA'].mean()\n",
    "print(f\"Group A Mean GPA: {mean_gpa1}\")\n",
    "\n",
    "#calculates the mean GPA of students incolved in no activities (GroupB)\n",
    "mean_gpa2 = no_activities['GPA'].mean()\n",
    "print(f\"Group B Mean GPA: {mean_gpa2}\")"
   ]
  },
  {
   "cell_type": "markdown",
   "id": "695394f9-5a90-47e4-a2c2-958bec2863cb",
   "metadata": {},
   "source": [
    "**The data shows a notable difference in the mean GPA between students with no listed activities (Group B) and those involved in all listed activities (Group A). Students in Group A have an average GPA of approximately 2.45, while those in Group B have an approximate average GPA of 1.73. This suggests that involvement in extracurricular activities might be associated with better academic perfromance. It could indicate that extracurricular engagements contribute postively to students' overall academic success, possibly by enhancing time management, providing motivation or offering valuable skills that translate into improves academic outcomes.**"
   ]
  },
  {
   "cell_type": "markdown",
   "id": "ff1b747e-5f5e-4e40-99a2-b72e0b4fab43",
   "metadata": {},
   "source": [
    "# A5. Exploring Parental Support and Tutoring"
   ]
  },
  {
   "cell_type": "markdown",
   "id": "c161ca77-1b87-4897-b0d8-f54a2f7abc27",
   "metadata": {},
   "source": [
    "1."
   ]
  },
  {
   "cell_type": "code",
   "execution_count": 54,
   "id": "1eca2a47-4366-43c2-a511-2cffd126c930",
   "metadata": {},
   "outputs": [
    {
     "data": {
      "text/html": [
       "<div>\n",
       "<style scoped>\n",
       "    .dataframe tbody tr th:only-of-type {\n",
       "        vertical-align: middle;\n",
       "    }\n",
       "\n",
       "    .dataframe tbody tr th {\n",
       "        vertical-align: top;\n",
       "    }\n",
       "\n",
       "    .dataframe thead th {\n",
       "        text-align: right;\n",
       "    }\n",
       "</style>\n",
       "<table border=\"1\" class=\"dataframe\">\n",
       "  <thead>\n",
       "    <tr style=\"text-align: right;\">\n",
       "      <th></th>\n",
       "      <th>GPA avg</th>\n",
       "      <th>GPA median</th>\n",
       "      <th>18yr olds</th>\n",
       "    </tr>\n",
       "    <tr>\n",
       "      <th>ParentalSupport</th>\n",
       "      <th></th>\n",
       "      <th></th>\n",
       "      <th></th>\n",
       "    </tr>\n",
       "  </thead>\n",
       "  <tbody>\n",
       "    <tr>\n",
       "      <th>0</th>\n",
       "      <td>1.471672</td>\n",
       "      <td>1.521602</td>\n",
       "      <td>33</td>\n",
       "    </tr>\n",
       "    <tr>\n",
       "      <th>1</th>\n",
       "      <td>1.740455</td>\n",
       "      <td>1.735855</td>\n",
       "      <td>80</td>\n",
       "    </tr>\n",
       "    <tr>\n",
       "      <th>2</th>\n",
       "      <td>1.817007</td>\n",
       "      <td>1.845914</td>\n",
       "      <td>98</td>\n",
       "    </tr>\n",
       "    <tr>\n",
       "      <th>3</th>\n",
       "      <td>2.070669</td>\n",
       "      <td>2.068174</td>\n",
       "      <td>116</td>\n",
       "    </tr>\n",
       "    <tr>\n",
       "      <th>4</th>\n",
       "      <td>2.215516</td>\n",
       "      <td>2.227639</td>\n",
       "      <td>35</td>\n",
       "    </tr>\n",
       "  </tbody>\n",
       "</table>\n",
       "</div>"
      ],
      "text/plain": [
       "                  GPA avg  GPA median  18yr olds\n",
       "ParentalSupport                                 \n",
       "0                1.471672    1.521602         33\n",
       "1                1.740455    1.735855         80\n",
       "2                1.817007    1.845914         98\n",
       "3                2.070669    2.068174        116\n",
       "4                2.215516    2.227639         35"
      ]
     },
     "execution_count": 54,
     "metadata": {},
     "output_type": "execute_result"
    }
   ],
   "source": [
    "#defines the agg functions for GPA and Age columns\n",
    "PS_GPA = {'GPA': {'mean', 'median'},  'Age': lambda x: (x == 18).sum()}\n",
    "\n",
    "# groups the 'student' DF by parental support and apply agg function\n",
    "groupbyParSup = student.groupby('ParentalSupport').agg(PS_GPA)\n",
    "\n",
    "#flatten the columns\n",
    "groupbyParSup.columns = ['GPA avg', 'GPA median', '18yr olds']\n",
    "\n",
    "# displays results\n",
    "groupbyParSup"
   ]
  },
  {
   "cell_type": "code",
   "execution_count": 55,
   "id": "9fb3a263-65d6-4355-8673-c38aebe05953",
   "metadata": {},
   "outputs": [
    {
     "data": {
      "text/html": [
       "<div>\n",
       "<style scoped>\n",
       "    .dataframe tbody tr th:only-of-type {\n",
       "        vertical-align: middle;\n",
       "    }\n",
       "\n",
       "    .dataframe tbody tr th {\n",
       "        vertical-align: top;\n",
       "    }\n",
       "\n",
       "    .dataframe thead th {\n",
       "        text-align: right;\n",
       "    }\n",
       "</style>\n",
       "<table border=\"1\" class=\"dataframe\">\n",
       "  <thead>\n",
       "    <tr style=\"text-align: right;\">\n",
       "      <th></th>\n",
       "      <th>ParentalSupport</th>\n",
       "      <th>GPA avg</th>\n",
       "      <th>GPA median</th>\n",
       "      <th>18yr olds</th>\n",
       "    </tr>\n",
       "  </thead>\n",
       "  <tbody>\n",
       "    <tr>\n",
       "      <th>0</th>\n",
       "      <td>0</td>\n",
       "      <td>1.471672</td>\n",
       "      <td>1.521602</td>\n",
       "      <td>33</td>\n",
       "    </tr>\n",
       "    <tr>\n",
       "      <th>1</th>\n",
       "      <td>1</td>\n",
       "      <td>1.740455</td>\n",
       "      <td>1.735855</td>\n",
       "      <td>80</td>\n",
       "    </tr>\n",
       "    <tr>\n",
       "      <th>2</th>\n",
       "      <td>2</td>\n",
       "      <td>1.817007</td>\n",
       "      <td>1.845914</td>\n",
       "      <td>98</td>\n",
       "    </tr>\n",
       "    <tr>\n",
       "      <th>3</th>\n",
       "      <td>3</td>\n",
       "      <td>2.070669</td>\n",
       "      <td>2.068174</td>\n",
       "      <td>116</td>\n",
       "    </tr>\n",
       "    <tr>\n",
       "      <th>4</th>\n",
       "      <td>4</td>\n",
       "      <td>2.215516</td>\n",
       "      <td>2.227639</td>\n",
       "      <td>35</td>\n",
       "    </tr>\n",
       "  </tbody>\n",
       "</table>\n",
       "</div>"
      ],
      "text/plain": [
       "   ParentalSupport   GPA avg  GPA median  18yr olds\n",
       "0                0  1.471672    1.521602         33\n",
       "1                1  1.740455    1.735855         80\n",
       "2                2  1.817007    1.845914         98\n",
       "3                3  2.070669    2.068174        116\n",
       "4                4  2.215516    2.227639         35"
      ]
     },
     "execution_count": 55,
     "metadata": {},
     "output_type": "execute_result"
    }
   ],
   "source": [
    "#resets index \n",
    "groupbyParSup = groupbyParSup.reset_index() \n",
    "\n",
    "#displays changes\n",
    "groupbyParSup"
   ]
  },
  {
   "cell_type": "markdown",
   "id": "9ec8906d-ba2d-43dc-a287-f69c4883167d",
   "metadata": {},
   "source": [
    "2."
   ]
  },
  {
   "cell_type": "code",
   "execution_count": 57,
   "id": "bcc16804-5356-42ce-9dd3-6a986f03a8bc",
   "metadata": {},
   "outputs": [
    {
     "data": {
      "image/png": "[encoded data removed]",
      "text/plain": [
       "<Figure size 800x500 with 1 Axes>"
      ]
     },
     "metadata": {},
     "output_type": "display_data"
    }
   ],
   "source": [
    "# defines a dictionary to map levels of parental support \n",
    "levels = {0: \"None\", 1: \"Low\", 2: \"Moderate\", 3: \"High\", 4: \"Very High\"}\n",
    "\n",
    "# maps the numerical parental support levels to descriptive labels\n",
    "groupbyParSup['ParentalSupport'] = groupbyParSup['ParentalSupport'].map(levels)\n",
    "\n",
    "# DF for plotting\n",
    "plot_data = groupbyParSup[['GPA avg', 'GPA median']].set_index(\n",
    "    groupbyParSup['ParentalSupport'])\n",
    "\n",
    "# plotting the bar chart\n",
    "ax = plot_data.plot.bar(figsize=(8, 5), width=0.8)\n",
    "\n",
    "# sets labels and titles\n",
    "ax.set_xticklabels(plot_data.index, rotation=360)\n",
    "plt.xlabel('Parental Support Level')\n",
    "plt.ylabel('GPA')\n",
    "plt.title('Mean and Median GPA by Parental Support Level')\n",
    "\n",
    "#adds a legend\n",
    "plt.legend([\"Mean GPA\", \"Median GPA\"])\n",
    "\n",
    "#displays the result\n",
    "plt.show()"
   ]
  },
  {
   "cell_type": "markdown",
   "id": "2f914bc9-2ca2-47b3-8f31-d2944158340b",
   "metadata": {},
   "source": [
    "**This bar chart displays the mean and median GPA of students catergorised by their level of parental support. The chart indicates a positive ocrrelation between parental support and GPA, as both the mean and median GPAs increase with higher levels of parental support. Specifically, students with no or low parental support tend to have lower GPAs (averages of 1.47 and 1.74 respectively), while those with very high parental support acheive the highest GPAs (average of 2.23). The close alignment between the mean and median GPAs across all categories, especially the 'low' parnetal support category (with an average of 1.82 and median of 1.85), suggests and consistent distribution of GPAs within each group, with no significant skewness. Overall, the data underscores the potential impact of parental support on academic performance.**"
   ]
  },
  {
   "cell_type": "code",
   "execution_count": 59,
   "id": "8745c226-1438-4bbe-a4c3-3e85d6307ff1",
   "metadata": {},
   "outputs": [
    {
     "data": {
      "text/html": [
       "<div>\n",
       "<style scoped>\n",
       "    .dataframe tbody tr th:only-of-type {\n",
       "        vertical-align: middle;\n",
       "    }\n",
       "\n",
       "    .dataframe tbody tr th {\n",
       "        vertical-align: top;\n",
       "    }\n",
       "\n",
       "    .dataframe thead tr th {\n",
       "        text-align: left;\n",
       "    }\n",
       "\n",
       "    .dataframe thead tr:last-of-type th {\n",
       "        text-align: right;\n",
       "    }\n",
       "</style>\n",
       "<table border=\"1\" class=\"dataframe\">\n",
       "  <thead>\n",
       "    <tr>\n",
       "      <th></th>\n",
       "      <th>GPA</th>\n",
       "    </tr>\n",
       "    <tr>\n",
       "      <th></th>\n",
       "      <th>mean</th>\n",
       "    </tr>\n",
       "    <tr>\n",
       "      <th>Tutoring</th>\n",
       "      <th></th>\n",
       "    </tr>\n",
       "  </thead>\n",
       "  <tbody>\n",
       "    <tr>\n",
       "      <th>No</th>\n",
       "      <td>1.804967</td>\n",
       "    </tr>\n",
       "    <tr>\n",
       "      <th>Yes</th>\n",
       "      <td>2.123106</td>\n",
       "    </tr>\n",
       "  </tbody>\n",
       "</table>\n",
       "</div>"
      ],
      "text/plain": [
       "               GPA\n",
       "              mean\n",
       "Tutoring          \n",
       "No        1.804967\n",
       "Yes       2.123106"
      ]
     },
     "execution_count": 59,
     "metadata": {},
     "output_type": "execute_result"
    }
   ],
   "source": [
    "#defines the agg function for GPA column\n",
    "Tutoring_GPA = {'GPA': {'mean'}}\n",
    "\n",
    "#groups stduent DF by Tutoring column and applies the agg function defined\n",
    "groupbyTutoring = student.groupby('Tutoring').agg(Tutoring_GPA)\n",
    "\n",
    "#displays result\n",
    "groupbyTutoring"
   ]
  },
  {
   "cell_type": "code",
   "execution_count": 60,
   "id": "0f364853-b7ac-4264-abbb-d4b823162843",
   "metadata": {},
   "outputs": [
    {
     "data": {
      "text/html": [
       "<div>\n",
       "<style scoped>\n",
       "    .dataframe tbody tr th:only-of-type {\n",
       "        vertical-align: middle;\n",
       "    }\n",
       "\n",
       "    .dataframe tbody tr th {\n",
       "        vertical-align: top;\n",
       "    }\n",
       "\n",
       "    .dataframe thead th {\n",
       "        text-align: right;\n",
       "    }\n",
       "</style>\n",
       "<table border=\"1\" class=\"dataframe\">\n",
       "  <thead>\n",
       "    <tr style=\"text-align: right;\">\n",
       "      <th></th>\n",
       "      <th>GPA avg</th>\n",
       "    </tr>\n",
       "    <tr>\n",
       "      <th>Tutoring</th>\n",
       "      <th></th>\n",
       "    </tr>\n",
       "  </thead>\n",
       "  <tbody>\n",
       "    <tr>\n",
       "      <th>No</th>\n",
       "      <td>1.804967</td>\n",
       "    </tr>\n",
       "    <tr>\n",
       "      <th>Yes</th>\n",
       "      <td>2.123106</td>\n",
       "    </tr>\n",
       "  </tbody>\n",
       "</table>\n",
       "</div>"
      ],
      "text/plain": [
       "           GPA avg\n",
       "Tutoring          \n",
       "No        1.804967\n",
       "Yes       2.123106"
      ]
     },
     "execution_count": 60,
     "metadata": {},
     "output_type": "execute_result"
    }
   ],
   "source": [
    "#fixes the formatting of the columns\n",
    "groupbyTutoring.columns = ['GPA avg']\n",
    "\n",
    "groupbyTutoring"
   ]
  },
  {
   "cell_type": "code",
   "execution_count": 61,
   "id": "994f270c-656b-47d0-a483-42a71cd0eccb",
   "metadata": {},
   "outputs": [
    {
     "data": {
      "text/html": [
       "<div>\n",
       "<style scoped>\n",
       "    .dataframe tbody tr th:only-of-type {\n",
       "        vertical-align: middle;\n",
       "    }\n",
       "\n",
       "    .dataframe tbody tr th {\n",
       "        vertical-align: top;\n",
       "    }\n",
       "\n",
       "    .dataframe thead th {\n",
       "        text-align: right;\n",
       "    }\n",
       "</style>\n",
       "<table border=\"1\" class=\"dataframe\">\n",
       "  <thead>\n",
       "    <tr style=\"text-align: right;\">\n",
       "      <th></th>\n",
       "      <th>Tutoring</th>\n",
       "      <th>GPA avg</th>\n",
       "    </tr>\n",
       "  </thead>\n",
       "  <tbody>\n",
       "    <tr>\n",
       "      <th>0</th>\n",
       "      <td>No</td>\n",
       "      <td>1.804967</td>\n",
       "    </tr>\n",
       "    <tr>\n",
       "      <th>1</th>\n",
       "      <td>Yes</td>\n",
       "      <td>2.123106</td>\n",
       "    </tr>\n",
       "  </tbody>\n",
       "</table>\n",
       "</div>"
      ],
      "text/plain": [
       "  Tutoring   GPA avg\n",
       "0       No  1.804967\n",
       "1      Yes  2.123106"
      ]
     },
     "execution_count": 61,
     "metadata": {},
     "output_type": "execute_result"
    }
   ],
   "source": [
    "#resets index\n",
    "groupbyTutoring = groupbyTutoring.reset_index() \n",
    "\n",
    "groupbyTutoring"
   ]
  },
  {
   "cell_type": "code",
   "execution_count": 62,
   "id": "b53c9f75-7487-4991-9127-a5db34f55b71",
   "metadata": {},
   "outputs": [
    {
     "data": {
      "image/png": "[encoded data removed]",
      "text/plain": [
       "<Figure size 640x480 with 1 Axes>"
      ]
     },
     "metadata": {},
     "output_type": "display_data"
    }
   ],
   "source": [
    "# plots bar chart\n",
    "ax=groupbyTutoring.plot.bar() \n",
    "\n",
    "#sets x-axis tick labels to tutoring status\n",
    "# ensures labels are readable and properly aligned\n",
    "ax.set_xticklabels(groupbyTutoring['Tutoring'],rotation=360) \n",
    "\n",
    "#sets labels \n",
    "plt.xlabel('Tutoring Status') \n",
    "plt.ylabel('Avg GPA') \n",
    "plt.title('Avg GPA vs Tutoring Status') \n",
    "\n",
    "#displays graph\n",
    "plt.show()"
   ]
  },
  {
   "cell_type": "markdown",
   "id": "4a90bafe-87b0-46c9-9138-1cac6d4192bb",
   "metadata": {},
   "source": [
    "**The bar graph indicates a postive correlation between tutoring and higher academic perfromance among students. Specifically, students who receieve tutoring have an average GPA of 2.12, compared to 1.80 for those who do not. This suggests that tutoring may be beneficial in improving students' academic outcomes, as evidenced by the higher average GPA in the tutored group.**"
   ]
  }
 ],
 "metadata": {
  "kernelspec": {
   "display_name": "Python 3 (ipykernel)",
   "language": "python",
   "name": "python3"
  },
  "language_info": {
   "codemirror_mode": {
    "name": "ipython",
    "version": 3
   },
   "file_extension": ".py",
   "mimetype": "text/x-python",
   "name": "python",
   "nbconvert_exporter": "python",
   "pygments_lexer": "ipython3",
   "version": "3.12.4"
  }
 },
 "nbformat": 4,
 "nbformat_minor": 5
}
